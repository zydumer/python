{
 "cells": [
  {
   "cell_type": "code",
   "execution_count": null,
   "id": "333f4dfb-daa0-4df4-9f78-3782d86018d3",
   "metadata": {},
   "outputs": [
    {
     "name": "stdout",
     "output_type": "stream",
     "text": [
      "  |   | \n",
      "  |   | \n",
      "  |   | \n",
      "----------\n",
      "  |   | \n",
      "  |   | \n",
      "  |   |X\n",
      "----------\n"
     ]
    },
    {
     "name": "stdin",
     "output_type": "stream",
     "text": [
      "Enter the position to insert: 1\n"
     ]
    },
    {
     "name": "stdout",
     "output_type": "stream",
     "text": [
      "O |   | \n",
      "  |   | \n",
      "  |   |X\n",
      "----------\n",
      "O |   | \n",
      "  |   | \n",
      "  |   |X\n",
      "----------\n",
      "O |   | \n",
      "X |   | \n",
      "  |   |X\n",
      "----------\n"
     ]
    },
    {
     "name": "stdin",
     "output_type": "stream",
     "text": [
      "Enter the position to insert: 5\n"
     ]
    },
    {
     "name": "stdout",
     "output_type": "stream",
     "text": [
      "O |   | \n",
      "X | O | \n",
      "  |   |X\n",
      "----------\n",
      "O |   | \n",
      "X | O | \n",
      "  |   |X\n",
      "----------\n",
      "O | X | \n",
      "X | O | \n",
      "  |   |X\n",
      "----------\n"
     ]
    },
    {
     "name": "stdin",
     "output_type": "stream",
     "text": [
      "Enter the position to insert: 5\n",
      "Not Free! Please re-enter a position 6\n"
     ]
    },
    {
     "name": "stdout",
     "output_type": "stream",
     "text": [
      "O | X | \n",
      "X | O |O\n",
      "  |   |X\n",
      "----------\n",
      "O | X | \n",
      "X | O |O\n",
      "  |   |X\n",
      "----------\n",
      "O | X | \n",
      "X | O |O\n",
      "X |   |X\n",
      "----------\n"
     ]
    },
    {
     "name": "stdin",
     "output_type": "stream",
     "text": [
      "Enter the position to insert: 8\n"
     ]
    },
    {
     "name": "stdout",
     "output_type": "stream",
     "text": [
      "O | X | \n",
      "X | O |O\n",
      "X | O |X\n",
      "----------\n",
      "O | X | \n",
      "X | O |O\n",
      "X | O |X\n",
      "----------\n",
      "O | X |X\n",
      "X | O |O\n",
      "X | O |X\n",
      "----------\n",
      "Draw\n"
     ]
    }
   ],
   "source": [
    "#print the game board \n",
    "import random\n",
    "\n",
    "board = [' '] * 10\n",
    "computer = 'X'\n",
    "human = 'O'\n",
    "\n",
    "\n",
    "def display_board(board):\n",
    "    print(f'{board[1]} | {board[2]} |{board[3]}')\n",
    "    print(f'{board[4]} | {board[5]} |{board[6]}')\n",
    "    print(f'{board[7]} | {board[8]} |{board[9]}')\n",
    "    print('-' * 10)\n",
    "\n",
    "\n",
    "def check_win():\n",
    "    if board[1] == board[2] == board[3] and board[1] != ' ':\n",
    "        return True\n",
    "    elif board[4] == board[5] == board[6] and board[4] != ' ':\n",
    "        return True\n",
    "    elif board[7] == board[8] == board[9] and board[7] != ' ':\n",
    "        return True\n",
    "    elif board[1] == board[4] == board[7] and board[1] != ' ':\n",
    "        return True\n",
    "    elif board[2] == board[5] == board[8] and board[2] != ' ':\n",
    "        return True\n",
    "    elif board[3] == board[6] == board[9] and board[3] != ' ':\n",
    "        return True\n",
    "    elif board[1] == board[5] == board[9] and board[1] != ' ':\n",
    "        return True\n",
    "    elif board[7] == board[5] == board[3] and board[7] != ' ':\n",
    "        return True\n",
    "    else:\n",
    "        return False\n",
    "\n",
    "\n",
    "def check_draw():\n",
    "    if board.count(' ') < 2:\n",
    "        return True\n",
    "    else:\n",
    "        return False\n",
    "\n",
    "\n",
    "def is_available(pos):\n",
    "    return True if board[pos] == ' ' else False\n",
    "\n",
    "\n",
    "def insert(letter, pos):\n",
    "    if is_available(pos):\n",
    "        board[pos] = letter\n",
    "        display_board(board)\n",
    "        if check_win():\n",
    "            if letter == 'X':\n",
    "                print(\"Computer Wins\")\n",
    "                exit()\n",
    "            else:\n",
    "                print(\"Human wins\")\n",
    "                exit()\n",
    "        if check_draw():\n",
    "            print(\"Draw\")\n",
    "            exit()\n",
    "    else:\n",
    "        if letter == 'O':\n",
    "            pos = int(input(\"Not Free! Please re-enter a position\"))\n",
    "        else:\n",
    "            pos = random.randint(1, 9)\n",
    "        insert(letter, pos)\n",
    "\n",
    "\n",
    "def human_move(letter):\n",
    "    pos = int(input(\"Enter the position to insert:\"))\n",
    "    insert(letter, pos)\n",
    "\n",
    "\n",
    "def computer_move(letter):\n",
    "    pos = random.randint(1, 9)\n",
    "    insert(letter, pos)\n",
    "\n",
    "\n",
    "# main loop\n",
    "while not check_win():\n",
    "    display_board(board)\n",
    "    computer_move(computer)\n",
    "    human_move(human)\n",
    "\n"
   ]
  },
  {
   "cell_type": "code",
   "execution_count": null,
   "id": "3239f415-e4ac-4e1c-9e66-964d7501cead",
   "metadata": {},
   "outputs": [],
   "source": []
  },
  {
   "cell_type": "code",
   "execution_count": null,
   "id": "5d6f0dc1-8f98-48ca-a1b2-c964eb3ccc26",
   "metadata": {},
   "outputs": [],
   "source": []
  }
 ],
 "metadata": {
  "kernelspec": {
   "display_name": "Python 3 (ipykernel)",
   "language": "python",
   "name": "python3"
  },
  "language_info": {
   "codemirror_mode": {
    "name": "ipython",
    "version": 3
   },
   "file_extension": ".py",
   "mimetype": "text/x-python",
   "name": "python",
   "nbconvert_exporter": "python",
   "pygments_lexer": "ipython3",
   "version": "3.12.4"
  }
 },
 "nbformat": 4,
 "nbformat_minor": 5
}
