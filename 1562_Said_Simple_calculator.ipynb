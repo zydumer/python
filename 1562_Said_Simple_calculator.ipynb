{
 "cells": [
  {
   "cell_type": "code",
   "execution_count": 19,
   "id": "2e761022-aafd-421b-ba4d-6f17e3f8bec7",
   "metadata": {},
   "outputs": [],
   "source": [
    "import tkinter as tk\n",
    "def click(event):\n",
    "    current=display.get()\n",
    "    text=event.widget.cget('text')\n",
    "    if text==\"=\":\n",
    "        result=eval(current)\n",
    "        display.delete(0,tk.END)\n",
    "        display.insert(tk.END,result)\n",
    "    elif text==\"c\":\n",
    "        display.delete(0,tk.END)\n",
    "    else:\n",
    "        display.insert(tk.END,text)\n",
    "window=tk.Tk()\n",
    "window.title(\"calculator\")\n",
    "display=tk.Entry(window,font=(\"Arial\",25),justify=\"right\")\n",
    "display.pack(fill=tk.X,padx=10,pady=10,ipady=10)\n",
    "btn_frame=tk.Frame(window)\n",
    "btn_frame.pack()\n",
    "button_labels=[\n",
    "    \"7\",\"8\",\"9\",\"+\",\n",
    "    \"4\",\"5\",\"6\",\"-\",\n",
    "    \"1\",\"2\",\"3\",\"*\",\n",
    "    \"C\",\"0\",\"=\",\"/\",]\n",
    "i=0\n",
    "for label in button_labels:\n",
    "    button=tk.Button(btn_frame,text=label,font=(\"Arial\",18),padx=20,pady=20)\n",
    "    button.grid(row=i//4,column=i%4,padx=10,pady=10)\n",
    "    button.bind(\"<Button-1>\",click)\n",
    "    i=i+1\n",
    "window.mainloop()"
   ]
  },
  {
   "cell_type": "code",
   "execution_count": null,
   "id": "f5d5ba71-50e7-4913-ac6e-3492f3a49a7c",
   "metadata": {},
   "outputs": [],
   "source": []
  }
 ],
 "metadata": {
  "kernelspec": {
   "display_name": "Python 3 (ipykernel)",
   "language": "python",
   "name": "python3"
  },
  "language_info": {
   "codemirror_mode": {
    "name": "ipython",
    "version": 3
   },
   "file_extension": ".py",
   "mimetype": "text/x-python",
   "name": "python",
   "nbconvert_exporter": "python",
   "pygments_lexer": "ipython3",
   "version": "3.12.4"
  }
 },
 "nbformat": 4,
 "nbformat_minor": 5
}
